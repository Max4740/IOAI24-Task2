{
 "cells": [
  {
   "cell_type": "code",
   "execution_count": 9,
   "metadata": {},
   "outputs": [
    {
     "name": "stdout",
     "output_type": "stream",
     "text": [
      "Copy ảnh thành công!\n"
     ]
    }
   ],
   "source": [
    "# Tạo thư mục chung cho tất cả các ảnh theo label\n",
    "import csv\n",
    "import os\n",
    "import shutil\n",
    "\n",
    "# Mở file CSV để đọc\n",
    "with open('C://Users//SamPiDieu//Desktop//IOAI//Task 2//training//train.csv', 'r') as csvfile:\n",
    "  reader = csv.reader(csvfile)\n",
    "\n",
    "  # Duyệt qua từng dòng trong file CSV\n",
    "  for row in reader:\n",
    "    # Lấy tên ảnh và folder đích từ mỗi dòng\n",
    "    image_name = row[0]\n",
    "    target_folder = int(row[1])\n",
    "\n",
    "    # Tạo đường dẫn đến ảnh gốc và folder đích\n",
    "    source_path = os.path.join('C://Users//SamPiDieu//Desktop//IOAI//Task 2//training//images//', image_name)\n",
    "    destination_path = os.path.join('C://Users//SamPiDieu//Desktop//IOAI//Task 2//dataset//all//', f\"{target_folder:02d}//\", image_name)\n",
    "    # Copy ảnh\n",
    "    shutil.copy(source_path, destination_path)\n",
    "\n",
    "print(\"Copy ảnh thành công!\")\n"
   ]
  },
  {
   "cell_type": "code",
   "execution_count": 15,
   "metadata": {},
   "outputs": [],
   "source": [
    "# Chia ảnh thành 2 tập train và validation\n",
    "import random\n",
    "def split_images(input_folder, output_folder, split_ratio=0.8):\n",
    "    train_folder = os.path.join(output_folder, 'train')\n",
    "    validata_folder = os.path.join(output_folder, 'val')\n",
    "    num=0\n",
    "\n",
    "    #os.makedirs(train_folder, exist_ok=True)\n",
    "    #os.makedirs(validata_folder, exist_ok=True)\n",
    "\n",
    "    subfolders = [f.name for f in os.scandir(input_folder) if f.is_dir()]\n",
    "    for subfolder in subfolders:\n",
    "        subfolder_path = os.path.join(input_folder, subfolder)\n",
    "        train_subfolder_path = os.path.join(train_folder, subfolder)\n",
    "        validata_subfolder_path = os.path.join(validata_folder, subfolder)\n",
    "\n",
    "        #os.makedirs(train_subfolder_path, exist_ok=True)\n",
    "        #os.makedirs(validata_subfolder_path, exist_ok=True)\n",
    "\n",
    "        files = [f.name for f in os.scandir(subfolder_path) if f.is_file()]\n",
    "        random.shuffle(files)\n",
    "        num+=len(files)\n",
    "        for i, file in enumerate(files):\n",
    "            file_path = os.path.join(subfolder_path, file)\n",
    "            if i < len(files) * split_ratio:\n",
    "                shutil.copy(file_path, os.path.join(train_subfolder_path, file))\n",
    "            else:\n",
    "                shutil.copy(file_path, os.path.join(validata_subfolder_path, file))"
   ]
  },
  {
   "cell_type": "code",
   "execution_count": 20,
   "metadata": {},
   "outputs": [],
   "source": [
    "input_folder = 'C:\\\\Users\\\\SamPiDieu\\\\Desktop\\\\IOAI\\\\Task 2\\\\dataset\\\\all\\\\'\n",
    "\n",
    "output_folder = 'C:\\\\Users\\\\SamPiDieu\\\\Desktop\\\\IOAI\\\\Task 2\\\\dataset\\\\'\n",
    "\n",
    "split_images(input_folder, output_folder)"
   ]
  }
 ],
 "metadata": {
  "kernelspec": {
   "display_name": "base",
   "language": "python",
   "name": "python3"
  },
  "language_info": {
   "codemirror_mode": {
    "name": "ipython",
    "version": 3
   },
   "file_extension": ".py",
   "mimetype": "text/x-python",
   "name": "python",
   "nbconvert_exporter": "python",
   "pygments_lexer": "ipython3",
   "version": "3.11.5"
  }
 },
 "nbformat": 4,
 "nbformat_minor": 2
}
